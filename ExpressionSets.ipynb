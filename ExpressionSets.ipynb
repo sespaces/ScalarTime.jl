{
 "cells": [
  {
   "cell_type": "markdown",
   "metadata": {},
   "source": [
    "## About\n",
    "\n",
    "ExpressionSets (WIP) is a fairly simple module created for use in ScaleTime (a WIP for use in another WIP, ScalableTimePiece).\n",
    "\n",
    "It provides one type, \"ExpressionSet,\" which has a name, a set of expressions to act as numerals, and a numeral length.\n",
    "\n",
    "An ExpressionSet's \"name\" is of String type; \"expressions\" is an Array of Strings; \"numeral_size\" is either Int8 or a Range of Int8; and \"same_length\" is Boolean.\n",
    "\n",
    "ExpressionSets also provides twelve pre-made expression sets. \n",
    "\n",
    "Eight are single-character sets representing bases 2, 6, 8, 10, 12, 16, 36, and 60 (binary, senary, octal, decimal, duodenal, hexadecimal, hexatrigesimal, and sexagesimal, respectively). Each base-N set uses the first N characters from \"0\" to \"z\" (0-9,A-Z,a-z).\n",
    "\n",
    "The 'alphanumeric' set includes A-Z followed by 0-9. (The base-36 hexatrigesimal set follows the pattern of hexadecimal, with numbers first, then letters.)\n",
    "  \n",
    "For base-100, 'centimal', number-letter pairs are used for each \"digit,\" 0A through 9J (0 - 99).\n",
    "    \n",
    "And finally, there are 'modgin_int and modgin_fract, which uses consonant-vowel letter pairs for integers and vowel-consonant pairs for fractions. It is a base-36 system. The consonants are \"M\", \"B\", \"D\", \"L\", \"K\", and \"S\". The vowels are \"I\", \"A\", \"U\", \"O\", \"E\", and \"H\".\n",
    "\n",
    "For integers the range is from MI through SH (0 - 35). The range of fractions is IM through HS (0/36 - 35/36).\n",
    "\n",
    "\n",
    "\n",
    "\n",
    "### Examples\n",
    "\n",
    "\n",
    "\n"
   ]
  }
 ],
 "metadata": {
  "kernelspec": {
   "display_name": "Julia 1.1.0-DEV",
   "language": "julia",
   "name": "julia-1.1"
  },
  "language_info": {
   "file_extension": ".jl",
   "mimetype": "application/julia",
   "name": "julia",
   "version": "1.1.0"
  }
 },
 "nbformat": 4,
 "nbformat_minor": 2
}
